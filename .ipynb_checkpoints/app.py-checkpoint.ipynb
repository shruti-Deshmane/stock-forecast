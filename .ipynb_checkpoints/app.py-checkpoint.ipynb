{
 "cells": [
  {
   "cell_type": "code",
   "execution_count": null,
   "id": "f6ecbb96-b5d5-48d1-9cd6-8ce41096c370",
   "metadata": {},
   "outputs": [],
   "source": [
    "from flask import Flask, render_template, request\n",
    "import pandas as pd\n",
    "from statsmodels.tsa.arima.model import ARIMA\n",
    "\n",
    "app = Flask(__name__)\n",
    "\n",
    "# Load dataset and train ARIMA once\n",
    "df = pd.read_csv(r\"C:\\Users\\LENOVO\\Downloads\\AAPL.csv\", parse_dates=[\"Date\"], index_col=\"Date\")\n",
    "y = df[\"Adj Close\"]\n",
    "model = ARIMA(y, order=(1,1,1))\n",
    "fit = model.fit()\n",
    "\n",
    "@app.route(\"/\", methods=[\"GET\", \"POST\"])\n",
    "def index():\n",
    "    forecast_value = None\n",
    "    if request.method == \"POST\":\n",
    "        n_days = int(request.form[\"days\"])\n",
    "        forecast = fit.forecast(steps=30)\n",
    "        forecast_value = forecast[n_days-1]\n",
    "    return render_template(\"index.html\", forecast=forecast_value)\n",
    "\n",
    "if __name__ == \"__main__\":\n",
    "    app.run(debug=True)\n"
   ]
  }
 ],
 "metadata": {
  "kernelspec": {
   "display_name": "Python 3 (ipykernel)",
   "language": "python",
   "name": "python3"
  },
  "language_info": {
   "codemirror_mode": {
    "name": "ipython",
    "version": 3
   },
   "file_extension": ".py",
   "mimetype": "text/x-python",
   "name": "python",
   "nbconvert_exporter": "python",
   "pygments_lexer": "ipython3",
   "version": "3.12.1"
  }
 },
 "nbformat": 4,
 "nbformat_minor": 5
}
